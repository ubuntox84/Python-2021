{
 "cells": [
  {
   "cell_type": "markdown",
   "metadata": {
    "slideshow": {
     "slide_type": "slide"
    }
   },
   "source": [
    "<h2 align=\"center\">Fundamentos de Programación Con Python</h2>\n",
    "\n",
    "<h3 align=\"center\">Adrián Alarcón B</h3>"
   ]
  },
  {
   "cell_type": "markdown",
   "metadata": {
    "slideshow": {
     "slide_type": "slide"
    }
   },
   "source": [
    "## Por qué programar?"
   ]
  },
  {
   "cell_type": "markdown",
   "metadata": {
    "slideshow": {
     "slide_type": "subslide"
    }
   },
   "source": [
    "## Por qué python?"
   ]
  },
  {
   "cell_type": "markdown",
   "metadata": {
    "slideshow": {
     "slide_type": "fragment"
    }
   },
   "source": [
    "### Modo interactivo"
   ]
  },
  {
   "cell_type": "markdown",
   "metadata": {
    "slideshow": {
     "slide_type": "fragment"
    }
   },
   "source": [
    "### Modo estándar"
   ]
  },
  {
   "cell_type": "markdown",
   "metadata": {
    "slideshow": {
     "slide_type": "slide"
    }
   },
   "source": [
    "## Por qué python?\n",
    "\n",
    "Programa para imprimir \"Hola mundo!\" en  Java:"
   ]
  },
  {
   "cell_type": "raw",
   "metadata": {
    "slideshow": {
     "slide_type": "fragment"
    }
   },
   "source": [
    "public class Hola {\n",
    "\n",
    "  public static void main (String [] args)  {\n",
    "\n",
    "   System.out.println(“Hola mundo!”);\n",
    "\n",
    "  }\n",
    "}"
   ]
  },
  {
   "cell_type": "markdown",
   "metadata": {
    "slideshow": {
     "slide_type": "slide"
    }
   },
   "source": [
    "## Por qué python?\n",
    "\n",
    "Programa para imprimir \"Hola mundo!\" en  C:"
   ]
  },
  {
   "cell_type": "raw",
   "metadata": {
    "slideshow": {
     "slide_type": "fragment"
    }
   },
   "source": [
    "#include “stdio.h”\n",
    "\n",
    "int main() {\n",
    "\n",
    "  printf(“Hola mundo!”);\n",
    "}"
   ]
  },
  {
   "cell_type": "markdown",
   "metadata": {
    "slideshow": {
     "slide_type": "slide"
    }
   },
   "source": [
    "## Por qué python?\n",
    "\n",
    "Programa para imprimir \"Hola mundo!\" en Python:"
   ]
  },
  {
   "cell_type": "raw",
   "metadata": {
    "slideshow": {
     "slide_type": "fragment"
    }
   },
   "source": [
    "print(\"Hola mundo!\")"
   ]
  },
  {
   "cell_type": "markdown",
   "metadata": {
    "slideshow": {
     "slide_type": "slide"
    }
   },
   "source": [
    "## Por qué python?"
   ]
  },
  {
   "cell_type": "markdown",
   "metadata": {
    "slideshow": {
     "slide_type": "fragment"
    }
   },
   "source": [
    "#### “Python is powerful… and fast; "
   ]
  },
  {
   "cell_type": "markdown",
   "metadata": {
    "slideshow": {
     "slide_type": "fragment"
    }
   },
   "source": [
    "#### plays well with others;"
   ]
  },
  {
   "cell_type": "markdown",
   "metadata": {
    "slideshow": {
     "slide_type": "fragment"
    }
   },
   "source": [
    "#### runs everywhere;"
   ]
  },
  {
   "cell_type": "markdown",
   "metadata": {
    "slideshow": {
     "slide_type": "fragment"
    }
   },
   "source": [
    "#### is friendly and easy to learn;"
   ]
  },
  {
   "cell_type": "markdown",
   "metadata": {
    "slideshow": {
     "slide_type": "fragment"
    }
   },
   "source": [
    "#### is Open.\""
   ]
  },
  {
   "cell_type": "markdown",
   "metadata": {
    "slideshow": {
     "slide_type": "slide"
    }
   },
   "source": [
    "# Qué veremos en este curso?"
   ]
  },
  {
   "cell_type": "markdown",
   "metadata": {
    "slideshow": {
     "slide_type": "fragment"
    }
   },
   "source": [
    "### Elementos básicos de programación y sintaxis en Python 3.X"
   ]
  },
  {
   "cell_type": "markdown",
   "metadata": {
    "slideshow": {
     "slide_type": "fragment"
    }
   },
   "source": [
    "### Módulos para el manejo y procesamiento de datos"
   ]
  },
  {
   "cell_type": "markdown",
   "metadata": {
    "slideshow": {
     "slide_type": "fragment"
    }
   },
   "source": [
    "### Visualización de datos (customization)"
   ]
  },
  {
   "cell_type": "markdown",
   "metadata": {
    "slideshow": {
     "slide_type": "slide"
    }
   },
   "source": [
    "# Qué veremos en este curso?"
   ]
  },
  {
   "cell_type": "markdown",
   "metadata": {
    "slideshow": {
     "slide_type": "slide"
    }
   },
   "source": [
    "<h2 align=\"center\">Clase 1: Elementos de Python I</h2>\n",
    "<h2 align=\"center\">Objetos: números, booleans y operaciones</h2>"
   ]
  },
  {
   "cell_type": "markdown",
   "metadata": {
    "slideshow": {
     "slide_type": "slide"
    }
   },
   "source": [
    "# Objetos\n",
    "\n",
    "Todos los datos en python son representados por objetos y por relaciones entre objetos."
   ]
  },
  {
   "cell_type": "code",
   "execution_count": 5,
   "metadata": {},
   "outputs": [
    {
     "output_type": "execute_result",
     "data": {
      "text/plain": [
       "'fiis'"
      ]
     },
     "metadata": {},
     "execution_count": 5
    }
   ],
   "source": [
    "cad=\"FIIS\"\n",
    "cad2=cad.lower()\n",
    "cad2"
   ]
  },
  {
   "cell_type": "code",
   "execution_count": 11,
   "metadata": {},
   "outputs": [
    {
     "output_type": "stream",
     "name": "stdout",
     "text": [
      "F I I S   -   U N A S "
     ]
    }
   ],
   "source": [
    "cad=\"FIIS - UNAS\"\n",
    "for i,m in enumerate(cad):\n",
    "    print(m,end= \" \")"
   ]
  },
  {
   "cell_type": "markdown",
   "metadata": {
    "slideshow": {
     "slide_type": "fragment"
    }
   },
   "source": [
    "El valor de un objeto puede cambiar en la medida que se ejecuta un programa. \n",
    "\n",
    "Objetos que _pueden_ cambiar su valor se les denomina __mutables__, mientras que aquellos que _no pueden_ cambiar su valor se les llama __inmutables__."
   ]
  },
  {
   "cell_type": "code",
   "execution_count": 39,
   "metadata": {},
   "outputs": [
    {
     "output_type": "execute_result",
     "data": {
      "text/plain": [
       "10"
      ]
     },
     "metadata": {},
     "execution_count": 39
    }
   ],
   "source": [
    "a=10\n",
    "def incremento(f):\n",
    "    b=20\n",
    "    f=b\n",
    "def decremento(f):\n",
    "    c=30\n",
    "    f=c\n",
    "incremento(a)\n",
    "decremento(a)\n",
    "a"
   ]
  },
  {
   "cell_type": "code",
   "execution_count": 38,
   "metadata": {},
   "outputs": [
    {
     "output_type": "stream",
     "name": "stdout",
     "text": [
      "hola\n"
     ]
    }
   ],
   "source": [
    "print(\"hola\")"
   ]
  },
  {
   "cell_type": "markdown",
   "metadata": {
    "slideshow": {
     "slide_type": "slide"
    }
   },
   "source": [
    "Python incorpora en su estructura funciones que pueden ser usadas en cualquier programa, llamadas _built-in functions_.\n",
    "\n",
    "La librería de python ( _python library_ ) consiste en todos los elementos principales del lenguaje, como tipos de datos y _built-in functions_. "
   ]
  },
  {
   "cell_type": "code",
   "execution_count": null,
   "metadata": {},
   "outputs": [],
   "source": []
  },
  {
   "cell_type": "code",
   "execution_count": null,
   "metadata": {},
   "outputs": [],
   "source": []
  },
  {
   "cell_type": "code",
   "execution_count": null,
   "metadata": {
    "slideshow": {
     "slide_type": "fragment"
    }
   },
   "outputs": [],
   "source": [
    "print(\"Hola mundo!\")"
   ]
  },
  {
   "cell_type": "markdown",
   "metadata": {
    "slideshow": {
     "slide_type": "slide"
    }
   },
   "source": [
    "El grueso de la librería está organizada en __módulos__. Para utilizar funciones definidas dentro de un módulo es necesario importarlo usando `import`:"
   ]
  },
  {
   "cell_type": "code",
   "execution_count": null,
   "metadata": {
    "slideshow": {
     "slide_type": "fragment"
    }
   },
   "outputs": [],
   "source": [
    "import math\n",
    "print(math.pi)"
   ]
  },
  {
   "cell_type": "markdown",
   "metadata": {
    "slideshow": {
     "slide_type": "fragment"
    }
   },
   "source": [
    "Para módulos de nombres muy largos es posible importarlos usando un \"pseudónimo\". Para esto debemos usar la sentencia `as`:"
   ]
  },
  {
   "cell_type": "code",
   "execution_count": null,
   "metadata": {
    "slideshow": {
     "slide_type": "fragment"
    }
   },
   "outputs": [],
   "source": [
    "import math as m\n",
    "print(m.pi)"
   ]
  },
  {
   "cell_type": "markdown",
   "metadata": {
    "slideshow": {
     "slide_type": "slide"
    }
   },
   "source": [
    "## Características de objetos\n",
    "\n",
    "Todo objeto en python tiene tres características:"
   ]
  },
  {
   "cell_type": "markdown",
   "metadata": {
    "slideshow": {
     "slide_type": "fragment"
    }
   },
   "source": [
    "- Tipo (`type`): determina el tipo de dato del objeto, y por ende qué operaciones puede hacer.\n",
    "- Valor (`value`): determina el valor contenido por el objeto.\n",
    "- Indetidad (`identity`): corresponde a un número que identifica dónde está siendo guardado el objeto dentro de la memoria del computador."
   ]
  },
  {
   "cell_type": "markdown",
   "metadata": {
    "slideshow": {
     "slide_type": "slide"
    }
   },
   "source": [
    "- Tipo (`type`): determina el tipo de dato del objeto, y por ende qué operaciones puede hacer."
   ]
  },
  {
   "cell_type": "code",
   "execution_count": 43,
   "metadata": {
    "slideshow": {
     "slide_type": "fragment"
    }
   },
   "outputs": [
    {
     "output_type": "execute_result",
     "data": {
      "text/plain": [
       "str"
      ]
     },
     "metadata": {},
     "execution_count": 43
    }
   ],
   "source": [
    "type('\"9.0\"')"
   ]
  },
  {
   "cell_type": "markdown",
   "metadata": {
    "slideshow": {
     "slide_type": "slide"
    }
   },
   "source": [
    "- Valor (`value`): determina el valor contenido por el objeto."
   ]
  },
  {
   "cell_type": "code",
   "execution_count": 2,
   "metadata": {
    "slideshow": {
     "slide_type": "fragment"
    }
   },
   "outputs": [
    {
     "name": "stdout",
     "output_type": "stream",
     "text": [
      "9\n"
     ]
    }
   ],
   "source": [
    "x = 9\n",
    "print(x)"
   ]
  },
  {
   "cell_type": "markdown",
   "metadata": {
    "slideshow": {
     "slide_type": "slide"
    }
   },
   "source": [
    "- Indetidad (`identity`): corresponde a un número que identifica dónde está siendo guardado el objeto dentro de la memoria del computador."
   ]
  },
  {
   "cell_type": "code",
   "execution_count": 3,
   "metadata": {
    "slideshow": {
     "slide_type": "fragment"
    }
   },
   "outputs": [
    {
     "data": {
      "text/plain": [
       "140728807429184"
      ]
     },
     "execution_count": 3,
     "metadata": {},
     "output_type": "execute_result"
    }
   ],
   "source": [
    "id(x)"
   ]
  },
  {
   "cell_type": "markdown",
   "metadata": {
    "slideshow": {
     "slide_type": "slide"
    }
   },
   "source": [
    "En general, todos los objetos en python tienen __atributos__.\n",
    "\n",
    "Los __atributos__ asociados a un objeto se pueden acceder usando un punto `.` entre el objeto y el nombre del atributo:"
   ]
  },
  {
   "cell_type": "code",
   "execution_count": 44,
   "metadata": {
    "slideshow": {
     "slide_type": "fragment"
    }
   },
   "outputs": [
    {
     "output_type": "execute_result",
     "data": {
      "text/plain": [
       "0"
      ]
     },
     "metadata": {},
     "execution_count": 44
    }
   ],
   "source": [
    "x = 9\n",
    "\n",
    "x.imag"
   ]
  },
  {
   "cell_type": "markdown",
   "metadata": {
    "slideshow": {
     "slide_type": "slide"
    }
   },
   "source": [
    "Los __atributos__ pueden ser de dos tipos:\n",
    "\n",
    "- Valor asociado a un objeto: __data atribute__.\n",
    "- Funciones que (en general) operan sobre el objeto: __methods__.\n",
    "\n",
    "__data atributes__ y __methods__ se diferencian a la hora de acceder a ellos por el uso de paréntesis `()`:"
   ]
  },
  {
   "cell_type": "code",
   "execution_count": 47,
   "metadata": {
    "slideshow": {
     "slide_type": "fragment"
    }
   },
   "outputs": [
    {
     "output_type": "stream",
     "name": "stdout",
     "text": [
      "<class 'complex'>\n3.0\n4.0\n"
     ]
    },
    {
     "output_type": "execute_result",
     "data": {
      "text/plain": [
       "(3-4j)"
      ]
     },
     "metadata": {},
     "execution_count": 47
    }
   ],
   "source": [
    "z = 3 + 4j\n",
    "\n",
    "print(type(z))\n",
    "\n",
    "# Atributos: propiedades asociadas a objeto z. Se accesan sin paréntesis\n",
    "print(z.real)\n",
    "print(z.imag)\n",
    "\n",
    "# Métodos: acciones sobre objeto z. Se usan con paréntesis\n",
    "z.conjugate()"
   ]
  },
  {
   "cell_type": "markdown",
   "metadata": {
    "slideshow": {
     "slide_type": "slide"
    }
   },
   "source": [
    "## Tipos de objetos\n",
    "\n",
    "El tipo de objeto determina el tipo de operaciones que soporta. Así, dependiendo del tipo de objeto se pueden tener distintos métodos asociados."
   ]
  },
  {
   "cell_type": "code",
   "execution_count": 50,
   "metadata": {
    "slideshow": {
     "slide_type": "fragment"
    }
   },
   "outputs": [
    {
     "output_type": "execute_result",
     "data": {
      "text/plain": [
       "float"
      ]
     },
     "metadata": {},
     "execution_count": 50
    }
   ],
   "source": [
    "x = 8\n",
    "y = 9.2\n",
    "type(x+y)"
   ]
  },
  {
   "cell_type": "markdown",
   "metadata": {
    "slideshow": {
     "slide_type": "fragment"
    }
   },
   "source": [
    "Una __instancia__ es cuando un objeto es creado con todas sus características."
   ]
  },
  {
   "cell_type": "markdown",
   "metadata": {
    "slideshow": {
     "slide_type": "slide"
    }
   },
   "source": [
    "### Ejemplos"
   ]
  },
  {
   "cell_type": "code",
   "execution_count": 55,
   "metadata": {
    "slideshow": {
     "slide_type": "fragment"
    }
   },
   "outputs": [],
   "source": [
    "x=0"
   ]
  },
  {
   "cell_type": "code",
   "execution_count": 56,
   "metadata": {
    "slideshow": {
     "slide_type": "fragment"
    }
   },
   "outputs": [
    {
     "output_type": "execute_result",
     "data": {
      "text/plain": [
       "int"
      ]
     },
     "metadata": {},
     "execution_count": 56
    }
   ],
   "source": [
    "x\n",
    "type(x)"
   ]
  },
  {
   "cell_type": "code",
   "execution_count": 57,
   "metadata": {
    "slideshow": {
     "slide_type": "fragment"
    }
   },
   "outputs": [
    {
     "output_type": "execute_result",
     "data": {
      "text/plain": [
       "1"
      ]
     },
     "metadata": {},
     "execution_count": 57
    }
   ],
   "source": [
    "x+1"
   ]
  },
  {
   "cell_type": "code",
   "execution_count": 58,
   "metadata": {
    "slideshow": {
     "slide_type": "fragment"
    }
   },
   "outputs": [
    {
     "output_type": "execute_result",
     "data": {
      "text/plain": [
       "float"
      ]
     },
     "metadata": {},
     "execution_count": 58
    }
   ],
   "source": [
    "x = x + 1.\n",
    "type(x)"
   ]
  },
  {
   "cell_type": "code",
   "execution_count": 59,
   "metadata": {
    "slideshow": {
     "slide_type": "fragment"
    }
   },
   "outputs": [
    {
     "output_type": "execute_result",
     "data": {
      "text/plain": [
       "4.0"
      ]
     },
     "metadata": {},
     "execution_count": 59
    }
   ],
   "source": [
    "x+3"
   ]
  },
  {
   "cell_type": "code",
   "execution_count": 60,
   "metadata": {},
   "outputs": [
    {
     "output_type": "execute_result",
     "data": {
      "text/plain": [
       "1.0"
      ]
     },
     "metadata": {},
     "execution_count": 60
    }
   ],
   "source": [
    "x"
   ]
  },
  {
   "cell_type": "markdown",
   "metadata": {
    "slideshow": {
     "slide_type": "slide"
    }
   },
   "source": [
    "## Números en Python\n",
    "\n",
    "Dentro de los tipos de datos numéricos, python presenta tres tipos de objetos numéricos:\n",
    "\n",
    "- Números enteros `int`: 1, 8, -73, 3455465756434535. \n",
    "\n",
    "En Python 3 no hay límite a su magnitud y su aritmética es exacta."
   ]
  },
  {
   "cell_type": "code",
   "execution_count": null,
   "metadata": {
    "slideshow": {
     "slide_type": "fragment"
    }
   },
   "outputs": [],
   "source": [
    "type(-3454863589647563457689435685473607548967205765083768437600249358095)"
   ]
  },
  {
   "cell_type": "markdown",
   "metadata": {
    "slideshow": {
     "slide_type": "slide"
    }
   },
   "source": [
    "## Números en Python\n",
    "\n",
    "Dentro de los tipos de datos numéricos, python presenta tres tipos de objetos numéricos:\n",
    "\n",
    "- Números de punto flotante `float`: 1.2, -0.435, $1.67\\times10^{-11}$. \n",
    "\n",
    "Números flotantes representan números reales pero son almacenados en forma binaria (generalmente con una precisión de 15-16 decimales).\n",
    "\n",
    "Cualquier número que contenga un punto `.` es considerado un `float`. \n",
    "\n",
    "Notación científica es soportada usando la letra `e` o `E` separando la mantisa del orden de magnitud. Por ejemplo, 6.67e-11 es equivalente a $6.67\\times10^{-11}$."
   ]
  },
  {
   "cell_type": "markdown",
   "metadata": {
    "slideshow": {
     "slide_type": "slide"
    }
   },
   "source": [
    "Cualquier número que contenga un punto `.` es considerado un `float`. \n",
    "\n",
    "Notación científica es soportada usando la letra `e` o `E` separando la mantisa del orden de magnitud. Por ejemplo, 6.67e-11 es equivalente a $6.67\\times10^{-11}$."
   ]
  },
  {
   "cell_type": "code",
   "execution_count": 62,
   "metadata": {
    "slideshow": {
     "slide_type": "fragment"
    }
   },
   "outputs": [
    {
     "output_type": "execute_result",
     "data": {
      "text/plain": [
       "float"
      ]
     },
     "metadata": {},
     "execution_count": 62
    }
   ],
   "source": [
    "type(6.67E-11)"
   ]
  },
  {
   "cell_type": "markdown",
   "metadata": {
    "slideshow": {
     "slide_type": "slide"
    }
   },
   "source": [
    "## Números en Python\n",
    "\n",
    "Dentro de los tipos de datos numéricos, python presenta tres tipos de objetos numéricos:\n",
    "\n",
    "- Números complejos `complex`: 1.2 -0.435j.\n",
    "\n",
    "El número imaginario se representa por `j` (como en ingeniería eléctrica) y sus partes real e imaginaria son de tipo `float`."
   ]
  },
  {
   "cell_type": "code",
   "execution_count": null,
   "metadata": {
    "slideshow": {
     "slide_type": "fragment"
    }
   },
   "outputs": [],
   "source": [
    "x = 1+3j"
   ]
  },
  {
   "cell_type": "markdown",
   "metadata": {
    "slideshow": {
     "slide_type": "slide"
    }
   },
   "source": [
    "Un operador útil es el \"guión bajo\" `_`, el que guarda el ultimo valor retornado por python."
   ]
  },
  {
   "cell_type": "code",
   "execution_count": 63,
   "metadata": {
    "slideshow": {
     "slide_type": "fragment"
    }
   },
   "outputs": [
    {
     "output_type": "execute_result",
     "data": {
      "text/plain": [
       "7.0"
      ]
     },
     "metadata": {},
     "execution_count": 63
    }
   ],
   "source": [
    "5.0 + 2"
   ]
  },
  {
   "cell_type": "code",
   "execution_count": 65,
   "metadata": {},
   "outputs": [
    {
     "output_type": "execute_result",
     "data": {
      "text/plain": [
       "100"
      ]
     },
     "metadata": {},
     "execution_count": 65
    }
   ],
   "source": [
    "x=100\n",
    "x"
   ]
  },
  {
   "cell_type": "code",
   "execution_count": 66,
   "metadata": {
    "slideshow": {
     "slide_type": "fragment"
    }
   },
   "outputs": [
    {
     "output_type": "stream",
     "name": "stdout",
     "text": [
      "100\n"
     ]
    }
   ],
   "source": [
    "print(_)"
   ]
  },
  {
   "cell_type": "markdown",
   "metadata": {
    "slideshow": {
     "slide_type": "slide"
    }
   },
   "source": [
    "Tabla resumen con tipos numéricos.\n",
    "\n",
    "|Nombre|Tipo|Representa|Ejemplo|\n",
    "| :- | :-: | :- | -: |\n",
    "|Integer|`int`|Números enteros (__sin__ punto decimal)| `8`, `3`, `2`|\n",
    "|Float|`float`|Números reales (__con__ punto decimal)| `7.8`, `3.14`, `2.0`|\n",
    "|Complex|`complex`|Números complejos de unidad imaginaria `j`| `7.8+3j`, `3.14j`|\n"
   ]
  },
  {
   "cell_type": "code",
   "execution_count": null,
   "metadata": {
    "slideshow": {
     "slide_type": "fragment"
    }
   },
   "outputs": [],
   "source": []
  },
  {
   "cell_type": "markdown",
   "metadata": {
    "slideshow": {
     "slide_type": "slide"
    }
   },
   "source": [
    "## Operaciones numéricas\n",
    "\n",
    "Podemos usar python como una calculadora operando entre objetos numéricos:\n",
    "\n",
    "|Símbolo | Operación          |\n",
    "|--------|----------------|\n",
    "|`+`     | Adición|\n",
    "|`-`|Substracción|\n",
    "|`/`|División|\n",
    "|`//`|División entera|\n",
    "|`%`|Módulo|\n",
    "|`*`|Multiplicación|\n",
    "|`**`|Exponenciación|"
   ]
  },
  {
   "cell_type": "code",
   "execution_count": 67,
   "metadata": {
    "slideshow": {
     "slide_type": "slide"
    }
   },
   "outputs": [
    {
     "output_type": "execute_result",
     "data": {
      "text/plain": [
       "3"
      ]
     },
     "metadata": {},
     "execution_count": 67
    }
   ],
   "source": [
    "15 // 4"
   ]
  },
  {
   "cell_type": "code",
   "execution_count": 68,
   "metadata": {
    "slideshow": {
     "slide_type": "subslide"
    }
   },
   "outputs": [
    {
     "output_type": "execute_result",
     "data": {
      "text/plain": [
       "4.0"
      ]
     },
     "metadata": {},
     "execution_count": 68
    }
   ],
   "source": [
    "x = 4\n",
    "type(x)\n",
    "\n",
    "float(x)"
   ]
  },
  {
   "cell_type": "code",
   "execution_count": null,
   "metadata": {
    "slideshow": {
     "slide_type": "subslide"
    }
   },
   "outputs": [],
   "source": []
  },
  {
   "cell_type": "code",
   "execution_count": 72,
   "metadata": {
    "slideshow": {
     "slide_type": "subslide"
    }
   },
   "outputs": [
    {
     "output_type": "execute_result",
     "data": {
      "text/plain": [
       "1.0"
      ]
     },
     "metadata": {},
     "execution_count": 72
    }
   ],
   "source": [
    "2 * 3 / 6%2"
   ]
  },
  {
   "cell_type": "code",
   "execution_count": null,
   "metadata": {
    "slideshow": {
     "slide_type": "subslide"
    }
   },
   "outputs": [],
   "source": []
  },
  {
   "cell_type": "code",
   "execution_count": null,
   "metadata": {
    "slideshow": {
     "slide_type": "subslide"
    }
   },
   "outputs": [],
   "source": []
  },
  {
   "cell_type": "code",
   "execution_count": null,
   "metadata": {
    "slideshow": {
     "slide_type": "subslide"
    }
   },
   "outputs": [],
   "source": []
  },
  {
   "cell_type": "code",
   "execution_count": null,
   "metadata": {
    "slideshow": {
     "slide_type": "subslide"
    }
   },
   "outputs": [],
   "source": []
  },
  {
   "cell_type": "markdown",
   "metadata": {
    "slideshow": {
     "slide_type": "slide"
    }
   },
   "source": [
    "### Precedencia de los operadores\n",
    "\n",
    "Cuál es el resultado de `2 + 4 * 3`?"
   ]
  },
  {
   "cell_type": "code",
   "execution_count": 73,
   "metadata": {
    "slideshow": {
     "slide_type": "fragment"
    }
   },
   "outputs": [
    {
     "output_type": "execute_result",
     "data": {
      "text/plain": [
       "14"
      ]
     },
     "metadata": {},
     "execution_count": 73
    }
   ],
   "source": [
    "2 + 4 * 3"
   ]
  },
  {
   "cell_type": "markdown",
   "metadata": {
    "slideshow": {
     "slide_type": "subslide"
    }
   },
   "source": [
    "El orden de precedencia en python está en la siguiente tabla:\n",
    "    \n",
    "|Operación | Precedencia  |\n",
    "|--------|----------------|\n",
    "|`**`     | Mayor|\n",
    "|`*, /, //, %`     |  |m\n",
    "|`+,-`|Menor|\n",
    "\n",
    "Precedencia es ignorada en presencia de paréntesis."
   ]
  },
  {
   "cell_type": "markdown",
   "metadata": {
    "slideshow": {
     "slide_type": "subslide"
    }
   },
   "source": [
    "Qué ocurre si dentro de una operación tenemos dos operadores que tienen igual precedencia?\n",
    "\n",
    "La evaluación de una expresión con operadores de igual precedencia es de _izquierda_ a  _derecha_ , __con excepción__ de la exponenciación (`**`) que es evaluada de _derecha_ a _izquierda_."
   ]
  },
  {
   "cell_type": "code",
   "execution_count": null,
   "metadata": {
    "slideshow": {
     "slide_type": "fragment"
    }
   },
   "outputs": [],
   "source": [
    "2 * 2 / 3"
   ]
  },
  {
   "cell_type": "markdown",
   "metadata": {
    "slideshow": {
     "slide_type": "slide"
    }
   },
   "source": [
    "Operaciones aritméticas básicas en python no son suficientes para cálculos más complejos.\n",
    "\n",
    "Cómo podemos usar, por ejemplo, la función __factorial__:\n",
    "    \n",
    "$ n! = n\\cdot (n-1)\\cdot(n-2)\\cdot \\ldots \\cdot2\\cdot 1$\n",
    "\n",
    "El módulo que usaremos más adelante será `numpy`, pero por el momento podemos usar el módulo `math`, que tiene constantes y funciones que aparecen seguido como las trigonométricas, exponencial, logaritmos, etc."
   ]
  },
  {
   "cell_type": "markdown",
   "metadata": {
    "slideshow": {
     "slide_type": "slide"
    }
   },
   "source": [
    "#### Funciones dentro del módulo `math`\n",
    "| | |\n",
    "|-|-|\n",
    "|`math.sqrt(x)`|$\\sqrt{x}$|\n",
    "|`math.exp(x)`|$\\exp(x)$|\n",
    "|`math.log(x)`|$\\ln(x)$|\n",
    "|`math.log10(x)`|$\\log_{10}(x)$|\n",
    "|`math.factorial(n)`|$n!$|\n",
    "|`math.erf(x)`|Función error en $x$|\n",
    "|`math.gamma(x)`|Función Gamma en $x$, $\\Gamma(x)$|\n"
   ]
  },
  {
   "cell_type": "code",
   "execution_count": null,
   "metadata": {
    "slideshow": {
     "slide_type": "fragment"
    }
   },
   "outputs": [],
   "source": []
  },
  {
   "cell_type": "markdown",
   "metadata": {
    "slideshow": {
     "slide_type": "slide"
    }
   },
   "source": [
    "Funciones dentro del módulo `math` (continuación)\n",
    "\n",
    "| | |\n",
    "|-|-|\n",
    "|`math.sin(x)`|$\\sin(x)$|\n",
    "|`math.cos(x)`|$\\cos(x)$|\n",
    "|`math.tan(x)`|$\\tan(x)$|\n",
    "|`math.asin(x)`|$\\arcsin(x)$|\n",
    "|`math.acos(x)`|$\\arccos(x)$|\n",
    "|`math.atan(x)`|$\\arctan(x)$|\n",
    "|`math.hypot(x,y)`|Norma Euclindeana, $\\sqrt{x^2+y^2}$|\n",
    "|`math.degrees(x)`|Convierte $x$ de radianes a grados sexagesimales|\n",
    "|`math.radians(x)`|Convierte $x$ de grados sexagesimales a radianes|"
   ]
  },
  {
   "cell_type": "code",
   "execution_count": null,
   "metadata": {
    "slideshow": {
     "slide_type": "fragment"
    }
   },
   "outputs": [],
   "source": []
  },
  {
   "cell_type": "markdown",
   "metadata": {
    "slideshow": {
     "slide_type": "slide"
    }
   },
   "source": [
    "Podemos escoger sólo __una__ cosa del módulo `math`?\n",
    "\n",
    "SI!"
   ]
  },
  {
   "cell_type": "code",
   "execution_count": null,
   "metadata": {
    "slideshow": {
     "slide_type": "fragment"
    }
   },
   "outputs": [],
   "source": [
    "import math as m\n",
    "\n",
    "m.e"
   ]
  },
  {
   "cell_type": "code",
   "execution_count": null,
   "metadata": {
    "slideshow": {
     "slide_type": "fragment"
    }
   },
   "outputs": [],
   "source": []
  },
  {
   "cell_type": "code",
   "execution_count": null,
   "metadata": {
    "slideshow": {
     "slide_type": "subslide"
    }
   },
   "outputs": [],
   "source": []
  },
  {
   "cell_type": "code",
   "execution_count": null,
   "metadata": {
    "slideshow": {
     "slide_type": "subslide"
    }
   },
   "outputs": [],
   "source": []
  },
  {
   "cell_type": "code",
   "execution_count": null,
   "metadata": {
    "slideshow": {
     "slide_type": "subslide"
    }
   },
   "outputs": [],
   "source": []
  },
  {
   "cell_type": "code",
   "execution_count": null,
   "metadata": {
    "slideshow": {
     "slide_type": "slide"
    }
   },
   "outputs": [],
   "source": []
  },
  {
   "cell_type": "markdown",
   "metadata": {
    "slideshow": {
     "slide_type": "slide"
    }
   },
   "source": [
    "## Expresiones\n",
    "\n",
    "Son combinaciones de objetos y operaciones para obtener un valor.\n",
    "\n",
    "## Booleans\n",
    "\n",
    "Corresponden al tipo de dato `bool` y tiene valores binarios: \n",
    "\n",
    "- `True`:verdadero\n",
    "- `False`: falso."
   ]
  },
  {
   "cell_type": "markdown",
   "metadata": {
    "slideshow": {
     "slide_type": "subslide"
    }
   },
   "source": [
    "Booleans son MUY útiles para hacer operaciones lógicas según sus tablas de valor:\n",
    "\n",
    "Operación \"o\"-lógico (`or`)\n",
    "\n",
    "|`P`|`Q`|`P or Q`|\n",
    "|-|-|-|\n",
    "|`True`|`True`|`True`|\n",
    "|`True`|`False`|`True`|\n",
    "|`False`|`True`|`True`|\n",
    "|`False`|`False`|`False`|"
   ]
  },
  {
   "cell_type": "code",
   "execution_count": null,
   "metadata": {
    "slideshow": {
     "slide_type": "fragment"
    }
   },
   "outputs": [],
   "source": [
    "type(False)"
   ]
  },
  {
   "cell_type": "markdown",
   "metadata": {
    "slideshow": {
     "slide_type": "subslide"
    }
   },
   "source": [
    "Booleans son MUY útiles para hacer operaciones lógicas según sus tablas de valor:\n",
    "\n",
    "Operación \"y\"-lógico (`and`)\n",
    "\n",
    "|`P`|`Q`|`P and Q`|\n",
    "|-|-|-|\n",
    "|`True`|`True`|`True`|\n",
    "|`True`|`False`|`False`|\n",
    "|`False`|`True`|`False`|\n",
    "|`False`|`False`|`False`|"
   ]
  },
  {
   "cell_type": "code",
   "execution_count": null,
   "metadata": {
    "slideshow": {
     "slide_type": "fragment"
    }
   },
   "outputs": [],
   "source": [
    "True and False"
   ]
  },
  {
   "cell_type": "markdown",
   "metadata": {
    "slideshow": {
     "slide_type": "subslide"
    }
   },
   "source": [
    "Booleans son MUY útiles para hacer operaciones lógicas según sus tablas de valor:\n",
    "\n",
    "Negación\n",
    "\n",
    "|`p`| `not p` |\n",
    "|-|-|\n",
    "|`True`|`False`|\n",
    "|`False`|`True`|"
   ]
  },
  {
   "cell_type": "code",
   "execution_count": 75,
   "metadata": {},
   "outputs": [
    {
     "output_type": "execute_result",
     "data": {
      "text/plain": [
       "False"
      ]
     },
     "metadata": {},
     "execution_count": 75
    }
   ],
   "source": [
    "p=True\n",
    "q= not p\n",
    "q"
   ]
  },
  {
   "cell_type": "code",
   "execution_count": 76,
   "metadata": {
    "slideshow": {
     "slide_type": "fragment"
    }
   },
   "outputs": [
    {
     "output_type": "execute_result",
     "data": {
      "text/plain": [
       "True"
      ]
     },
     "metadata": {},
     "execution_count": 76
    }
   ],
   "source": [
    "not False and not False"
   ]
  },
  {
   "cell_type": "markdown",
   "metadata": {
    "slideshow": {
     "slide_type": "slide"
    }
   },
   "source": [
    "## Operaciones de comparación\n",
    "\n",
    "Podemos comparar objetos. El resultado es un `bool`:\n",
    "\n",
    "| | |\n",
    "|-|-|\n",
    "|`==`|igual|\n",
    "|`!=`|no igual|\n",
    "|`>`|mayor (estricto) que|\n",
    "|`<`|menor (estricto) que|\n",
    "|`>=`|mayor o igual a|\n",
    "|`<=`|menor o igual a|"
   ]
  },
  {
   "cell_type": "code",
   "execution_count": 77,
   "metadata": {
    "slideshow": {
     "slide_type": "subslide"
    }
   },
   "outputs": [
    {
     "output_type": "execute_result",
     "data": {
      "text/plain": [
       "False"
      ]
     },
     "metadata": {},
     "execution_count": 77
    }
   ],
   "source": [
    "9 < 3"
   ]
  },
  {
   "cell_type": "code",
   "execution_count": 78,
   "metadata": {
    "slideshow": {
     "slide_type": "fragment"
    }
   },
   "outputs": [
    {
     "output_type": "execute_result",
     "data": {
      "text/plain": [
       "True"
      ]
     },
     "metadata": {},
     "execution_count": 78
    }
   ],
   "source": [
    "5 + 8 > 12"
   ]
  },
  {
   "cell_type": "code",
   "execution_count": null,
   "metadata": {
    "slideshow": {
     "slide_type": "fragment"
    }
   },
   "outputs": [],
   "source": []
  },
  {
   "cell_type": "code",
   "execution_count": null,
   "metadata": {
    "slideshow": {
     "slide_type": "fragment"
    }
   },
   "outputs": [],
   "source": []
  },
  {
   "cell_type": "code",
   "execution_count": null,
   "metadata": {
    "slideshow": {
     "slide_type": "fragment"
    }
   },
   "outputs": [],
   "source": []
  },
  {
   "cell_type": "code",
   "execution_count": null,
   "metadata": {
    "slideshow": {
     "slide_type": "fragment"
    }
   },
   "outputs": [],
   "source": []
  },
  {
   "cell_type": "code",
   "execution_count": null,
   "metadata": {
    "slideshow": {
     "slide_type": "fragment"
    }
   },
   "outputs": [],
   "source": []
  },
  {
   "cell_type": "code",
   "execution_count": null,
   "metadata": {
    "slideshow": {
     "slide_type": "fragment"
    }
   },
   "outputs": [],
   "source": []
  },
  {
   "cell_type": "markdown",
   "metadata": {
    "slideshow": {
     "slide_type": "slide"
    }
   },
   "source": [
    "Finalmente, python convierte automáticamente a `bool` un resultado si es necesario."
   ]
  },
  {
   "cell_type": "code",
   "execution_count": null,
   "metadata": {},
   "outputs": [],
   "source": [
    "while 100:"
   ]
  },
  {
   "cell_type": "code",
   "execution_count": 81,
   "metadata": {
    "slideshow": {
     "slide_type": "fragment"
    }
   },
   "outputs": [
    {
     "output_type": "execute_result",
     "data": {
      "text/plain": [
       "0"
      ]
     },
     "metadata": {},
     "execution_count": 81
    }
   ],
   "source": [
    "a = 0\n",
    "a"
   ]
  },
  {
   "cell_type": "code",
   "execution_count": 82,
   "metadata": {
    "slideshow": {
     "slide_type": "fragment"
    }
   },
   "outputs": [
    {
     "output_type": "execute_result",
     "data": {
      "text/plain": [
       "False"
      ]
     },
     "metadata": {},
     "execution_count": 82
    }
   ],
   "source": [
    "a or 4 < 3"
   ]
  },
  {
   "cell_type": "code",
   "execution_count": 83,
   "metadata": {
    "slideshow": {
     "slide_type": "fragment"
    }
   },
   "outputs": [
    {
     "output_type": "execute_result",
     "data": {
      "text/plain": [
       "False"
      ]
     },
     "metadata": {},
     "execution_count": 83
    }
   ],
   "source": [
    "not a+20"
   ]
  },
  {
   "cell_type": "code",
   "execution_count": null,
   "metadata": {
    "slideshow": {
     "slide_type": "slide"
    }
   },
   "outputs": [],
   "source": [
    "bool(-1)"
   ]
  },
  {
   "cell_type": "code",
   "execution_count": 87,
   "metadata": {
    "slideshow": {
     "slide_type": "fragment"
    }
   },
   "outputs": [
    {
     "output_type": "execute_result",
     "data": {
      "text/plain": [
       "False"
      ]
     },
     "metadata": {},
     "execution_count": 87
    }
   ],
   "source": [
    "bool(0)"
   ]
  },
  {
   "cell_type": "code",
   "execution_count": 88,
   "metadata": {
    "slideshow": {
     "slide_type": "slide"
    }
   },
   "outputs": [],
   "source": [
    "a = 0"
   ]
  },
  {
   "cell_type": "code",
   "execution_count": 89,
   "metadata": {
    "slideshow": {
     "slide_type": "fragment"
    }
   },
   "outputs": [
    {
     "output_type": "execute_result",
     "data": {
      "text/plain": [
       "-2"
      ]
     },
     "metadata": {},
     "execution_count": 89
    }
   ],
   "source": [
    "a-2 or a"
   ]
  },
  {
   "cell_type": "code",
   "execution_count": 91,
   "metadata": {
    "slideshow": {
     "slide_type": "fragment"
    }
   },
   "outputs": [
    {
     "output_type": "execute_result",
     "data": {
      "text/plain": [
       "-2"
      ]
     },
     "metadata": {},
     "execution_count": 91
    }
   ],
   "source": [
    "4 > 3 and a-2"
   ]
  },
  {
   "cell_type": "code",
   "execution_count": 92,
   "metadata": {
    "slideshow": {
     "slide_type": "fragment"
    }
   },
   "outputs": [
    {
     "output_type": "execute_result",
     "data": {
      "text/plain": [
       "0"
      ]
     },
     "metadata": {},
     "execution_count": 92
    }
   ],
   "source": [
    "4 > 3 and a"
   ]
  },
  {
   "cell_type": "markdown",
   "metadata": {
    "slideshow": {
     "slide_type": "subslide"
    }
   },
   "source": [
    "`False` es equivalente a `0`"
   ]
  },
  {
   "cell_type": "markdown",
   "metadata": {
    "slideshow": {
     "slide_type": "subslide"
    }
   },
   "source": [
    "## Valor especial `None`\n",
    "\n",
    "Se usa para representar la ausencia de un valor definido y su tipo de dato es `NoneType`. Ayuda a evitar valores por defecto (como 0 o -99).\n",
    "\n",
    "En comparación lógica, `None` se evalúa como `False`, pero si se quiere evaluar si una variable es `None` hay que usar `is` o `is not`."
   ]
  },
  {
   "cell_type": "code",
   "execution_count": 98,
   "metadata": {},
   "outputs": [
    {
     "output_type": "stream",
     "name": "stdout",
     "text": [
      "<class 'int'>\n"
     ]
    },
    {
     "output_type": "execute_result",
     "data": {
      "text/plain": [
       "False"
      ]
     },
     "metadata": {},
     "execution_count": 98
    }
   ],
   "source": [
    "a=10\n",
    "print(type(a))\n",
    "10 is int"
   ]
  },
  {
   "cell_type": "code",
   "execution_count": null,
   "metadata": {
    "slideshow": {
     "slide_type": "fragment"
    }
   },
   "outputs": [],
   "source": []
  },
  {
   "cell_type": "markdown",
   "metadata": {
    "slideshow": {
     "slide_type": "slide"
    }
   },
   "source": [
    "# Variables\n",
    "\n",
    "Son contenedores de objetos. Algunas reglas para los nombres de variables:\n",
    "\n",
    "- Nombres son _case-sentitive_ es decir, `a` y `A` son variables diferentes.\n",
    "- Nombres pueden contener números y `_`, siempre y cuando __no parta__ con un número.\n",
    "- Los nombres `True`, `False` y `None` no pueden ocuparse, pues son constantes en python.\n",
    "\n",
    "Al escribir código, las variables:\n",
    "- deben tener un nombre auto-explicativo,\n",
    "- pero no muy largo.\n",
    "- Variables `i`, `j`, `k`, `n` son generalmente usaddas como contadores enteros."
   ]
  },
  {
   "cell_type": "markdown",
   "metadata": {
    "slideshow": {
     "slide_type": "slide"
    }
   },
   "source": [
    "Algunos nombres no pueden utilizarse al estar tomados por el sistema de python. Estos son:"
   ]
  },
  {
   "cell_type": "code",
   "execution_count": null,
   "metadata": {
    "slideshow": {
     "slide_type": "fragment"
    }
   },
   "outputs": [],
   "source": [
    "import keyword\n",
    "print(keyword.kwlist)"
   ]
  },
  {
   "cell_type": "markdown",
   "metadata": {
    "slideshow": {
     "slide_type": "slide"
    }
   },
   "source": [
    "## Inmutabilidad e identidad\n",
    "\n",
    "Todos los objetos vistos hasta ahora son de tipo __inmutable__ . "
   ]
  },
  {
   "cell_type": "code",
   "execution_count": 99,
   "metadata": {
    "slideshow": {
     "slide_type": "fragment"
    }
   },
   "outputs": [],
   "source": [
    "a = 8\n",
    "b = a"
   ]
  },
  {
   "cell_type": "code",
   "execution_count": 113,
   "metadata": {
    "slideshow": {
     "slide_type": "fragment"
    }
   },
   "outputs": [
    {
     "output_type": "execute_result",
     "data": {
      "text/plain": [
       "140725122346480"
      ]
     },
     "metadata": {},
     "execution_count": 113
    }
   ],
   "source": [
    "id(a)"
   ]
  },
  {
   "cell_type": "code",
   "execution_count": 114,
   "metadata": {
    "slideshow": {
     "slide_type": "fragment"
    }
   },
   "outputs": [
    {
     "output_type": "execute_result",
     "data": {
      "text/plain": [
       "140725122346480"
      ]
     },
     "metadata": {},
     "execution_count": 114
    }
   ],
   "source": [
    "id(b)"
   ]
  },
  {
   "cell_type": "code",
   "execution_count": 108,
   "metadata": {},
   "outputs": [
    {
     "output_type": "execute_result",
     "data": {
      "text/plain": [
       "8"
      ]
     },
     "metadata": {},
     "execution_count": 108
    }
   ],
   "source": [
    "b=100\n",
    "a"
   ]
  },
  {
   "cell_type": "markdown",
   "metadata": {
    "slideshow": {
     "slide_type": "fragment"
    }
   },
   "source": [
    "Variables `a` y `b` hacen referencia al mismo objeto (lugar de la memoria)."
   ]
  },
  {
   "cell_type": "code",
   "execution_count": null,
   "metadata": {},
   "outputs": [],
   "source": []
  },
  {
   "cell_type": "code",
   "execution_count": null,
   "metadata": {},
   "outputs": [],
   "source": []
  },
  {
   "cell_type": "code",
   "execution_count": 112,
   "metadata": {
    "slideshow": {
     "slide_type": "slide"
    }
   },
   "outputs": [],
   "source": [
    "a = 100"
   ]
  },
  {
   "cell_type": "code",
   "execution_count": 111,
   "metadata": {
    "slideshow": {
     "slide_type": "fragment"
    }
   },
   "outputs": [
    {
     "output_type": "execute_result",
     "data": {
      "text/plain": [
       "100"
      ]
     },
     "metadata": {},
     "execution_count": 111
    }
   ],
   "source": [
    "b"
   ]
  },
  {
   "cell_type": "code",
   "execution_count": null,
   "metadata": {
    "slideshow": {
     "slide_type": "fragment"
    }
   },
   "outputs": [],
   "source": [
    "id(a)"
   ]
  },
  {
   "cell_type": "code",
   "execution_count": null,
   "metadata": {
    "slideshow": {
     "slide_type": "fragment"
    }
   },
   "outputs": [],
   "source": [
    "id(b)"
   ]
  },
  {
   "cell_type": "markdown",
   "metadata": {
    "slideshow": {
     "slide_type": "subslide"
    }
   },
   "source": [
    "No es que la variable no pueda cambiar de valor, _es el objeto mismo_ el que no puede cambiar."
   ]
  },
  {
   "cell_type": "code",
   "execution_count": null,
   "metadata": {
    "scrolled": true,
    "slideshow": {
     "slide_type": "subslide"
    }
   },
   "outputs": [],
   "source": [
    "a = 256\n",
    "id(a)"
   ]
  },
  {
   "cell_type": "code",
   "execution_count": null,
   "metadata": {
    "slideshow": {
     "slide_type": "fragment"
    }
   },
   "outputs": [],
   "source": [
    "b = a\n",
    "id(b)"
   ]
  },
  {
   "cell_type": "code",
   "execution_count": 115,
   "metadata": {
    "slideshow": {
     "slide_type": "fragment"
    }
   },
   "outputs": [
    {
     "output_type": "execute_result",
     "data": {
      "text/plain": [
       "True"
      ]
     },
     "metadata": {},
     "execution_count": 115
    }
   ],
   "source": [
    "a is b"
   ]
  },
  {
   "cell_type": "code",
   "execution_count": 116,
   "metadata": {
    "slideshow": {
     "slide_type": "fragment"
    }
   },
   "outputs": [
    {
     "output_type": "execute_result",
     "data": {
      "text/plain": [
       "1091412663280"
      ]
     },
     "metadata": {},
     "execution_count": 116
    }
   ],
   "source": [
    "c = 2345\n",
    "id(c)"
   ]
  },
  {
   "cell_type": "code",
   "execution_count": 117,
   "metadata": {
    "slideshow": {
     "slide_type": "fragment"
    }
   },
   "outputs": [
    {
     "output_type": "execute_result",
     "data": {
      "text/plain": [
       "True"
      ]
     },
     "metadata": {},
     "execution_count": 117
    }
   ],
   "source": [
    "a is b"
   ]
  },
  {
   "cell_type": "code",
   "execution_count": 118,
   "metadata": {
    "slideshow": {
     "slide_type": "fragment"
    }
   },
   "outputs": [
    {
     "output_type": "execute_result",
     "data": {
      "text/plain": [
       "False"
      ]
     },
     "metadata": {},
     "execution_count": 118
    }
   ],
   "source": [
    "c is a"
   ]
  },
  {
   "cell_type": "code",
   "execution_count": 119,
   "metadata": {
    "slideshow": {
     "slide_type": "fragment"
    }
   },
   "outputs": [
    {
     "output_type": "execute_result",
     "data": {
      "text/plain": [
       "False"
      ]
     },
     "metadata": {},
     "execution_count": 119
    }
   ],
   "source": [
    "c == a"
   ]
  },
  {
   "cell_type": "markdown",
   "metadata": {
    "slideshow": {
     "slide_type": "slide"
    }
   },
   "source": [
    "# Ejercicios para iniciar\n",
    "\n",
    "### Problema 1\n",
    "La fórmuula de _Herón_ nos dá el área $A$ de un triángulo de lados $a$, $b$ y $c$:\n",
    "\n",
    "$$ A = \\sqrt{s(s-a)(s-b)(s-c)}$$\n",
    "donde $s=\\dfrac{1}{2}(a+b+c)$. Escriba un código que implemente esta fórmula."
   ]
  },
  {
   "cell_type": "code",
   "execution_count": null,
   "metadata": {
    "slideshow": {
     "slide_type": "fragment"
    }
   },
   "outputs": [],
   "source": []
  },
  {
   "cell_type": "code",
   "execution_count": null,
   "metadata": {
    "slideshow": {
     "slide_type": "subslide"
    }
   },
   "outputs": [],
   "source": []
  },
  {
   "cell_type": "markdown",
   "metadata": {
    "slideshow": {
     "slide_type": "slide"
    }
   },
   "source": [
    "### Problema 2\n",
    "Si dos lados adyacentes de un dado regular de 6 caras tienen los valores $a$ y $b$ cuando se ven de lado y leídos desde izquiuerda a derecha, el valor en la cara superior del dado está dado por $3(a^3b-ab^3)\\,{\\rm mod}\\,7$. Determine el valor de la cara superior de un dado si \n",
    "- $a=2$, $b=6$\n",
    "- $a=3$, $b=5$."
   ]
  },
  {
   "cell_type": "code",
   "execution_count": null,
   "metadata": {
    "slideshow": {
     "slide_type": "fragment"
    }
   },
   "outputs": [],
   "source": []
  },
  {
   "cell_type": "code",
   "execution_count": null,
   "metadata": {
    "slideshow": {
     "slide_type": "subslide"
    }
   },
   "outputs": [],
   "source": []
  },
  {
   "cell_type": "markdown",
   "metadata": {
    "slideshow": {
     "slide_type": "slide"
    }
   },
   "source": [
    "### Problema 3\n",
    "El _World Geodesic System_ es un conjunto de estándares internacionales para describir la forma de la Tierra. En la revisión WGS-84, el geoide terrestre es aproximado a un elipsoide de referencia que forma un esferoide oblato con semi-eje mayor $a=6378137.0\\,{\\rm m}$ y semi-eje menor $c=6356752.314245\\,{\\rm m}$. El área de un esferoide oblato está dado por la siguiente fórmula:\n",
    "\n",
    "$$ S_{\\rm obl} = 2\\pi a^2\\left(1+\\dfrac{1-e^2}{e}{\\rm atanh}(e)\\right),$$\n",
    "\n",
    "donde $e^2=1-\\dfrac{c^2}{a^2}$. \n",
    "\n",
    "Calcule el área de la superficie de este elipsoide de referencia y compárelo con el área  de la Tierra asumida como una esfera de radio $6371\\,{\\rm km}$."
   ]
  },
  {
   "cell_type": "code",
   "execution_count": null,
   "metadata": {
    "slideshow": {
     "slide_type": "fragment"
    }
   },
   "outputs": [],
   "source": []
  },
  {
   "cell_type": "code",
   "execution_count": null,
   "metadata": {
    "slideshow": {
     "slide_type": "subslide"
    }
   },
   "outputs": [],
   "source": []
  },
  {
   "cell_type": "markdown",
   "metadata": {
    "slideshow": {
     "slide_type": "slide"
    }
   },
   "source": [
    "<h2 align=\"center\">Clase 2: Elementos de Python II</h2>\n",
    "<h2 align=\"center\">Secuencias</h2>\n",
    "\n",
    "<h3 align=\"center\">Viernes 5 de junio, 2020</h3>"
   ]
  },
  {
   "cell_type": "code",
   "execution_count": null,
   "metadata": {
    "slideshow": {
     "slide_type": "slide"
    }
   },
   "outputs": [],
   "source": [
    "a = 234\n",
    "id(a)"
   ]
  },
  {
   "cell_type": "code",
   "execution_count": null,
   "metadata": {},
   "outputs": [],
   "source": [
    "b = a\n",
    "id(b)"
   ]
  },
  {
   "cell_type": "code",
   "execution_count": null,
   "metadata": {},
   "outputs": [],
   "source": [
    "a is b"
   ]
  },
  {
   "cell_type": "code",
   "execution_count": null,
   "metadata": {},
   "outputs": [],
   "source": [
    "c = 234\n",
    "id(c)"
   ]
  },
  {
   "cell_type": "code",
   "execution_count": null,
   "metadata": {},
   "outputs": [],
   "source": [
    "c is a"
   ]
  },
  {
   "cell_type": "code",
   "execution_count": null,
   "metadata": {},
   "outputs": [],
   "source": [
    "c == a"
   ]
  },
  {
   "cell_type": "code",
   "execution_count": null,
   "metadata": {},
   "outputs": [],
   "source": [
    "a = 2345\n",
    "print(id(a))\n",
    "c = 2345\n",
    "print(id(c))\n",
    "c is a"
   ]
  },
  {
   "cell_type": "code",
   "execution_count": null,
   "metadata": {},
   "outputs": [],
   "source": []
  }
 ],
 "metadata": {
  "kernelspec": {
   "name": "python376jvsc74a57bd0d043b8e5ab412aed233dc718004561d594cd8fda45b9c050cfbaf051abc9abbe",
   "display_name": "Python 3.7.6 64-bit ('base': conda)"
  },
  "language_info": {
   "codemirror_mode": {
    "name": "ipython",
    "version": 3
   },
   "file_extension": ".py",
   "mimetype": "text/x-python",
   "name": "python",
   "nbconvert_exporter": "python",
   "pygments_lexer": "ipython3",
   "version": "3.7.6"
  }
 },
 "nbformat": 4,
 "nbformat_minor": 4
}