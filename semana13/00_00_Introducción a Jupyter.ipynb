{
 "cells": [
  {
   "cell_type": "markdown",
   "metadata": {},
   "source": [
    "<h2 align=\"center\">Fundamentos de Programación Con Python</h2>\n",
    "\n",
    "<h3 align=\"center\">Adrián Alarcón B</h3>"
   ]
  },
  {
   "cell_type": "markdown",
   "metadata": {},
   "source": [
    "# 0 - Introducción a Jupyter"
   ]
  },
  {
   "cell_type": "markdown",
   "metadata": {},
   "source": [
    "## 0.1 - Corriendo código de Python\n",
    "En su versión mas sencilla, cada una de las celdas se puede pensar como un **snippet de codigo que se puede ejecutar independientemente** de las demas.\n",
    "Para ejecutar la siguiente celda, selccionarla y apretar el boton <i class=\"fa-step-forward fa\"></i> ubicado en la barra superior, o equivalentemente, presionar <span style=\"border: solid 1px #aaa; padding: 2px; border-radius: 4px;\">Shift</span> + <span style=\"border: solid 1px #aaa; padding: 2px; border-radius: 4px;\">Enter</span>"
   ]
  },
  {
   "cell_type": "code",
   "execution_count": 2,
   "metadata": {
    "scrolled": false
   },
   "outputs": [
    {
     "name": "stdout",
     "output_type": "stream",
     "text": [
      "Hola notebook!\n"
     ]
    }
   ],
   "source": [
    "print('Hola notebook!')"
   ]
  },
  {
   "cell_type": "markdown",
   "metadata": {},
   "source": [
    "Pueden ver una lista completa de todos los shortcuts disponibles en el menu <span style=\"border: solid 1px #aaa; padding: 2px; border-radius: 4px;\">Help</span> <span style=\"border: solid 1px #aaa; padding: 2px; border-radius: 4px;\">Keyboard Shortcuts</span> o con el shortcut <span style=\"border: solid 1px #aaa; padding: 2px; border-radius: 4px;\">H</span>\n",
    "<br>\n",
    "Shortcuts importantes:\n",
    "- Click para selccionar una celda\n",
    "- <span style=\"border: solid 1px #aaa; padding: 2px; border-radius: 4px;\">Shift</span> + <span style=\"border: solid 1px #aaa; padding: 2px; border-radius: 4px;\">Enter</span> para ejecutar una celda y seleccionar la celda siguiente"
   ]
  },
  {
   "cell_type": "markdown",
   "metadata": {},
   "source": [
    "Cada celda es independiente de las demás, pero **comparten el mismo contexto**. Definiciones de variables, funciones y clases, e importaciones de módulos dentro de una celda, permiten que las siguientes celdas tengan acceso a éstas.\n",
    "\n",
    "Si no sabes que son las variables, funciones y clases, tranquilo sólo quedate con que: *lo que ejecutes desde la primera celda, estará disponible para usar en las siguientes celdas*"
   ]
  },
  {
   "cell_type": "code",
   "execution_count": 1,
   "metadata": {},
   "outputs": [],
   "source": [
    "import getpass\n",
    "# defino variable en una celda\n",
    "user = getpass.getuser"
   ]
  },
  {
   "cell_type": "code",
   "execution_count": 2,
   "metadata": {
    "scrolled": true
   },
   "outputs": [
    {
     "output_type": "stream",
     "name": "stdout",
     "text": [
      "Hola paz!\n"
     ]
    }
   ],
   "source": [
    "# accedo a la variable definida en la celda anterior\n",
    "print (\"Hola {}!\".format(user))"
   ]
  },
  {
   "cell_type": "markdown",
   "metadata": {},
   "source": [
    "Una diferencia notable con un script.py es que **no estamos obligados a ejecutar celdas en un orden preestablecido**. De todas maneras, es recomendable ordenar un notebook según el orden de lectura estandar para evitar confusiones."
   ]
  },
  {
   "cell_type": "markdown",
   "metadata": {},
   "source": [
    "## 0.2 - Más que solo Python\n",
    "El contenido de las celdas no está limitado a solo código de Python. Una alternativa posible es **Markdown**, que es muy útil para explicar las ideas detras de cada snippet de código y para guiar al lector en la ejecución del notebook (como venimos haciendo hasta ahora).\n",
    "\n",
    "Y extendiendolo aún mas, es posible insertar código html para insertar imágenes, audios, videos y todas las alternativas que esto provee. Esto es especialmente útil para visualizar información y generar gráficos con datos generados por los snippets de código del notebook."
   ]
  },
  {
   "cell_type": "markdown",
   "metadata": {},
   "source": [
    "En modo Markdown está habilitada la interpretación de código html, con algunas excepciones por temas de seguridad y consistencia del notebook (ej: interpretación de <span style=\"color:#BA2121\">&lt;script&gt;</span>, <span style=\"color:#BA2121\">&lt;style&gt;</span> y atributos relacionados). "
   ]
  },
  {
   "cell_type": "markdown",
   "metadata": {},
   "source": [
    "## 0.3 - Integración con bash\n",
    "\n",
    "De forma nativa jupyter tiene integración con comandos de bash. Estos son reconocidos mediante el prefijo <span style=\"border: solid 1px #aaa; padding: 2px; border-radius: 4px;\">!</span>. Por ej, si quisiera ver qué versión de python estoy corriendo, podría correr:"
   ]
  },
  {
   "cell_type": "code",
   "execution_count": 3,
   "metadata": {},
   "outputs": [
    {
     "output_type": "stream",
     "name": "stdout",
     "text": [
      "Python 3.7.6\n"
     ]
    }
   ],
   "source": [
    "!python --version"
   ]
  },
  {
   "cell_type": "markdown",
   "metadata": {},
   "source": [
    "Notar que la celda anterior es interpretada como una celda de código al igual que las celdas de que contiene código python. Esto permite que dentro de una celda conviva código de python y de bash sin problemas. \n",
    "\n",
    "Para ejemplificar esto, usemos el comando **ls** que lista los archivos de la carpeta en la cual estemos parados:"
   ]
  },
  {
   "cell_type": "code",
   "execution_count": 4,
   "metadata": {},
   "outputs": [
    {
     "output_type": "stream",
     "name": "stdout",
     "text": [
      " El volumen de la unidad D es Nuevo vol\n El n�mero de serie del volumen es: DE00-E387\n\n Directorio de d:\\CodigoProgramacion\\Python\\semana13\n\n30/04/2021  04:03 p.m.    <DIR>          .\n30/04/2021  04:03 p.m.    <DIR>          ..\n04/05/2021  04:33 p.m.            12,002 00_00_Introducci�n a Jupyter.ipynb\n04/05/2021  04:33 p.m.            84,928 00_01_Introduccion-a-la-Programacion-en-Python.ipynb\n27/04/2021  05:01 p.m.               279 ejer1.py\n27/04/2021  05:36 p.m.               148 ejer2.py\n03/05/2021  10:14 a.m.                27 ejer3.py\n03/05/2021  05:38 p.m.             6,650 ejer4.ipynb\n30/04/2021  04:03 p.m.               903 ejer5.ipynb\n06/03/2021  06:28 a.m.            41,035 S1_Objetos_numericos.ipynb\n06/03/2021  06:27 a.m.            46,944 S2_Secuencias.ipynb\n24/05/2019  07:11 p.m.            10,125 subvenciones.csv\n24/05/2019  07:11 p.m.            62,576 subvenciones.ods\n27/04/2021  05:36 p.m.                 0 tempCodeRunnerFile.py\n              12 archivos        265,617 bytes\n               2 dirs  55,969,476,608 bytes libres\n"
     ]
    }
   ],
   "source": [
    "ls"
   ]
  },
  {
   "cell_type": "code",
   "execution_count": 7,
   "metadata": {},
   "outputs": [
    {
     "output_type": "stream",
     "name": "stdout",
     "text": [
      "ejer1.py\nejer2.py\nejer3.py\ntempCodeRunnerFile.py\n"
     ]
    }
   ],
   "source": [
    "files_in_this_folder = !ls\n",
    "for filename in files_in_this_folder:\n",
    "    if filename[-3:] == '.py':\n",
    "        print(filename)"
   ]
  },
  {
   "source": [
    "## 0.4 - Jupyter Magic\n",
    "\n",
    "Extendiendo la capacidad de jupyter de interpretar Python, Bash y Markdown, existen comandos especiales que son parte de la *magia de jupyter*. Estos comandos empiezan con <span style=\"border: solid 1px #aaa; padding: 2px; border-radius: 4px;\">%</span> - para evaluaciones en una sola linea - y con <span style=\"border: solid 1px #aaa; padding: 2px; border-radius: 4px;\">%%</span> para evaluaciones multi linea. Un ejemplo de esto es la posibilidad de insertar html excediendo las capacidad de Markdown y tener la posibilidad de insertar scripts de javascript:"
   ],
   "cell_type": "code",
   "metadata": {},
   "execution_count": 8,
   "outputs": [
    {
     "output_type": "error",
     "ename": "SyntaxError",
     "evalue": "invalid syntax (<ipython-input-8-bbbec35106ba>, line 3)",
     "traceback": [
      "\u001b[1;36m  File \u001b[1;32m\"<ipython-input-8-bbbec35106ba>\"\u001b[1;36m, line \u001b[1;32m3\u001b[0m\n\u001b[1;33m    Extendiendo la capacidad de jupyter de interpretar Python, Bash y Markdown, existen comandos especiales que son parte de la *magia de jupyter*. Estos comandos empiezan con <span style=\"border: solid 1px #aaa; padding: 2px; border-radius: 4px;\">%</span> - para evaluaciones en una sola linea - y con <span style=\"border: solid 1px #aaa; padding: 2px; border-radius: 4px;\">%%</span> para evaluaciones multi linea. Un ejemplo de esto es la posibilidad de insertar html excediendo las capacidad de Markdown y tener la posibilidad de insertar scripts de javascript:\u001b[0m\n\u001b[1;37m                 ^\u001b[0m\n\u001b[1;31mSyntaxError\u001b[0m\u001b[1;31m:\u001b[0m invalid syntax\n"
     ]
    }
   ]
  },
  {
   "cell_type": "code",
   "execution_count": 9,
   "metadata": {},
   "outputs": [
    {
     "output_type": "display_data",
     "data": {
      "text/plain": "<IPython.core.display.HTML object>",
      "text/html": "<button id=\"click-button\">Clickeame</button>\n<span id=\"click-counter\">No me has clickeado todavía.</span>\n<script>\n    $(function() {\n        var click_counter = 0;\n        $('#click-button').click(function() {\n            click_counter += 1;\n            var message = 'Me haz clickeado ' + click_counter + (click_counter == 1 ? ' vez' : ' veces')\n            $('#click-counter').text(message)\n        })\n    })\n</script>\n"
     },
     "metadata": {}
    }
   ],
   "source": [
    "%%html\n",
    "<button id=\"click-button\">Clickeame</button>\n",
    "<span id=\"click-counter\">No me has clickeado todavía.</span>\n",
    "<script>\n",
    "    $(function() {\n",
    "        var click_counter = 0;\n",
    "        $('#click-button').click(function() {\n",
    "            click_counter += 1;\n",
    "            var message = 'Me haz clickeado ' + click_counter + (click_counter == 1 ? ' vez' : ' veces')\n",
    "            $('#click-counter').text(message)\n",
    "        })\n",
    "    })\n",
    "</script>"
   ]
  },
  {
   "cell_type": "markdown",
   "metadata": {},
   "source": [
    "Para listar por completo todas las magias con las que viene jupyter, existe el comando <span style=\"border: solid 1px #aaa; padding: 2px; border-radius: 4px;\">% lsmagic</span>"
   ]
  },
  {
   "cell_type": "code",
   "execution_count": 10,
   "metadata": {},
   "outputs": [
    {
     "output_type": "stream",
     "name": "stderr",
     "text": [
      "UsageError: Line magic function `%` not found.\n"
     ]
    }
   ],
   "source": [
    "% lsmagic"
   ]
  },
  {
   "cell_type": "markdown",
   "metadata": {},
   "source": [
    "## 0.5 - Servidor remoto\n",
    "\n",
    "La principal interfaz de Jupyter involucra un navegador para proveer la interfaz al usuario, pero la ejecución de código se realiza del lado del servidor. Esto permite que, habiendo hecho las configuraciones pertinentes, el usuario acceda de forma remota al servidor. Por ej, en la necesidad de procesar una gran cantidad de información, se puede dejar corriendo un servidor de jupyter en una computadora con mejores recursos de hardware y acceder a éste desde cualquier computadora que cuente con un navegador y una conexión a internet.\n",
    "\n",
    "Para mas información, leer la [documentación oficial de jupyter](http://jupyter-notebook.readthedocs.io/en/latest/public_server.html) sobre este tema"
   ]
  },
  {
   "cell_type": "markdown",
   "metadata": {},
   "source": [
    "## 0.6 - Extensiones de la comunidad\n",
    "\n",
    "Con la rápida adopción y la creciente comunidad de usuarios de Jupyter, han aparecido una gran cantidad de extensiones que le agregan funcionalidades. Éstas se encuentran en el [repositorio de extensiones](https://github.com/ipython-contrib/jupyter_contrib_nbextensions) de Jupyter.\n",
    "\n",
    "Las extensiones disponibles ofrecen un amplio rango de funcionalidades agregadas. Desde correctores ortográficos hasta generadores automaticos de tablas de contenidos:\n",
    "\n",
    "<img src=\"nbextensions_example.gif\" style=\"max-width: 500px\">"
   ]
  },
  {
   "cell_type": "markdown",
   "metadata": {},
   "source": [
    "# Referencias\n",
    "\n",
    "* https://github.com/datosgobar/taller-analisis-datos-101"
   ]
  },
  {
   "cell_type": "code",
   "execution_count": null,
   "metadata": {},
   "outputs": [],
   "source": []
  }
 ],
 "metadata": {
  "kernelspec": {
   "name": "python376jvsc74a57bd0d043b8e5ab412aed233dc718004561d594cd8fda45b9c050cfbaf051abc9abbe",
   "display_name": "Python 3.7.6 64-bit (conda)"
  },
  "language_info": {
   "codemirror_mode": {
    "name": "ipython",
    "version": 3
   },
   "file_extension": ".py",
   "mimetype": "text/x-python",
   "name": "python",
   "nbconvert_exporter": "python",
   "pygments_lexer": "ipython3",
   "version": "3.7.6"
  }
 },
 "nbformat": 4,
 "nbformat_minor": 1
}